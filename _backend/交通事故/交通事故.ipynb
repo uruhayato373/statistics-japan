{
 "cells": [
  {
   "cell_type": "code",
   "execution_count": null,
   "metadata": {},
   "outputs": [],
   "source": []
  },
  {
   "cell_type": "markdown",
   "metadata": {},
   "source": [
    "\n",
    "[警察庁](https://www.npa.go.jp/publications/statistics/koutsuu/opendata/index_opendata.html)でCSVが公開されている。"
   ]
  }
 ],
 "metadata": {
  "language_info": {
   "name": "python"
  }
 },
 "nbformat": 4,
 "nbformat_minor": 2
}
