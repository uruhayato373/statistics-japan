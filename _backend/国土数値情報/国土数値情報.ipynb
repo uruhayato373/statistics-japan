{
 "cells": [
  {
   "cell_type": "code",
   "execution_count": null,
   "metadata": {},
   "outputs": [],
   "source": [
    "pip install geopandas topojson"
   ]
  },
  {
   "cell_type": "markdown",
   "metadata": {},
   "source": [
    "# DID人口集中地区\n",
    "\n",
    "https://nlftp.mlit.go.jp/ksj/gml/datalist/KsjTmplt-A16-2020.html"
   ]
  },
  {
   "cell_type": "code",
   "execution_count": 4,
   "metadata": {},
   "outputs": [
    {
     "name": "stdout",
     "output_type": "stream",
     "text": [
      "TopoJSONファイルが保存されました: DID人口集中地区/A16-20_00_DID.topojson\n"
     ]
    }
   ],
   "source": [
    "import geopandas as gpd\n",
    "import json\n",
    "import topojson\n",
    "\n",
    "def shapefile_to_topojson(input_shapefile, output_topojson, object_name='data'):\n",
    "    # シェープファイルを読み込む\n",
    "    gdf = gpd.read_file(input_shapefile)\n",
    "\n",
    "    # GeoJSONに変換\n",
    "    geojson = json.loads(gdf.to_json())\n",
    "\n",
    "    # TopoJSONに変換\n",
    "    topojson_data = topojson.Topology(geojson, prequantize=False).to_dict()\n",
    "\n",
    "    # TopoJSONファイルに保存\n",
    "    with open(output_topojson, 'w') as f:\n",
    "        json.dump(topojson_data, f)\n",
    "\n",
    "    print(f\"TopoJSONファイルが保存されました: {output_topojson}\")\n",
    "\n",
    "# 使用例\n",
    "input_file = \"DID人口集中地区/A16-20_00_DID.shp\"\n",
    "output_file = \"DID人口集中地区/A16-20_00_DID.topojson\"\n",
    "shapefile_to_topojson(input_file, output_file)"
   ]
  }
 ],
 "metadata": {
  "kernelspec": {
   "display_name": "Python 3",
   "language": "python",
   "name": "python3"
  },
  "language_info": {
   "codemirror_mode": {
    "name": "ipython",
    "version": 3
   },
   "file_extension": ".py",
   "mimetype": "text/x-python",
   "name": "python",
   "nbconvert_exporter": "python",
   "pygments_lexer": "ipython3",
   "version": "3.11.8"
  }
 },
 "nbformat": 4,
 "nbformat_minor": 2
}
